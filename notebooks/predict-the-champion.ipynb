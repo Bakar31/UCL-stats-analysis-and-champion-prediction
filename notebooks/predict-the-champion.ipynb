{
 "cells": [
  {
   "cell_type": "markdown",
   "id": "e779f510",
   "metadata": {
    "papermill": {
     "duration": 0.035393,
     "end_time": "2021-11-11T06:48:31.645521",
     "exception": false,
     "start_time": "2021-11-11T06:48:31.610128",
     "status": "completed"
    },
    "tags": []
   },
   "source": [
    "# Overview:\n",
    "\n",
    "UCL stands for UEFA Champions League. This is the biggest Title race in the club football. I have done a very deep analysis in [this notebook](https://www.kaggle.com/bakar31/ucl-stats-analysis). Feel free to check this out.What are we gonna do is to develop a model with the highest accuracy, precision and F1-score to predict the new season champion. But to predict we need current season's data like number of matches played, number of wins, number of losses, goal difference, how many goals scored etc. Let's build our model"
   ]
  },
  {
   "cell_type": "markdown",
   "id": "d331bc32",
   "metadata": {
    "papermill": {
     "duration": 0.032448,
     "end_time": "2021-11-11T06:48:31.711345",
     "exception": false,
     "start_time": "2021-11-11T06:48:31.678897",
     "status": "completed"
    },
    "tags": []
   },
   "source": [
    "# Table of Contents\n",
    "\n",
    "* [EDA](https://www.kaggle.com/bakar31/ucl-stats-analysis)\n",
    "* [Basic data Info](#Basic-info-about-data)\n",
    "    - [Solve imbalance distribution problem](https://www.kaggle.com/bakar31/a-guide-to-imbalance-distribution-problem-in-ml)\n",
    "* [Feature Enginnering](#Feature-Engineering)\n",
    "* [Feature Selection](#Feature-Selection)\n",
    "* [Solve Imbalance Problem](#Balancing-Imbalance-Distribution-Problem)\n",
    "* [Modeling](#Modeling)\n",
    "    - [Logistic Regression](#Logistic-Regression)\n",
    "    - [KNN](#KNN)\n",
    "    - [SVC](#SVC)\n",
    "    - [Random Foresr](#Random-Forest)\n",
    "    - [GradientBoost](#Gradient-Boost)\n",
    "    - [LightBGM](#LightBGM)\n",
    "* [Score Analysis](#Score-Analysis![4D6N2F.gif](attachment:db4a4db7-3598-4b17-8bce-8074b5bbc41e.gif))"
   ]
  },
  {
   "cell_type": "markdown",
   "id": "124e3042",
   "metadata": {
    "papermill": {
     "duration": 0.032144,
     "end_time": "2021-11-11T06:48:31.776595",
     "exception": false,
     "start_time": "2021-11-11T06:48:31.744451",
     "status": "completed"
    },
    "tags": []
   },
   "source": [
    "### An upvote will be very appreciated "
   ]
  },
  {
   "cell_type": "code",
   "execution_count": 1,
   "id": "39be4b44",
   "metadata": {
    "execution": {
     "iopub.execute_input": "2021-11-11T06:48:31.850632Z",
     "iopub.status.busy": "2021-11-11T06:48:31.849643Z",
     "iopub.status.idle": "2021-11-11T06:48:31.855420Z",
     "shell.execute_reply": "2021-11-11T06:48:31.855984Z",
     "shell.execute_reply.started": "2021-09-07T11:36:55.51513Z"
    },
    "papermill": {
     "duration": 0.047336,
     "end_time": "2021-11-11T06:48:31.856293",
     "exception": false,
     "start_time": "2021-11-11T06:48:31.808957",
     "status": "completed"
    },
    "tags": []
   },
   "outputs": [],
   "source": [
    "# import basic libraries\n",
    "import numpy as np\n",
    "import pandas as pd\n",
    "import matplotlib.pyplot as plt\n",
    "import warnings\n",
    "warnings.filterwarnings('ignore')"
   ]
  },
  {
   "cell_type": "code",
   "execution_count": 2,
   "id": "274af1a4",
   "metadata": {
    "execution": {
     "iopub.execute_input": "2021-11-11T06:48:31.930550Z",
     "iopub.status.busy": "2021-11-11T06:48:31.929862Z",
     "iopub.status.idle": "2021-11-11T06:48:32.053719Z",
     "shell.execute_reply": "2021-11-11T06:48:32.053140Z",
     "shell.execute_reply.started": "2021-09-07T11:36:55.526915Z"
    },
    "papermill": {
     "duration": 0.163958,
     "end_time": "2021-11-11T06:48:32.053874",
     "exception": false,
     "start_time": "2021-11-11T06:48:31.889916",
     "status": "completed"
    },
    "tags": []
   },
   "outputs": [],
   "source": [
    "# import the dataset\n",
    "df = pd.read_csv('../input/ucl-statistics/ucl_stats.csv')"
   ]
  },
  {
   "cell_type": "markdown",
   "id": "0562d11a",
   "metadata": {
    "papermill": {
     "duration": 0.032894,
     "end_time": "2021-11-11T06:48:32.121787",
     "exception": false,
     "start_time": "2021-11-11T06:48:32.088893",
     "status": "completed"
    },
    "tags": []
   },
   "source": [
    "# Basic info about data"
   ]
  },
  {
   "cell_type": "code",
   "execution_count": 3,
   "id": "5b353ea1",
   "metadata": {
    "execution": {
     "iopub.execute_input": "2021-11-11T06:48:32.190047Z",
     "iopub.status.busy": "2021-11-11T06:48:32.189423Z",
     "iopub.status.idle": "2021-11-11T06:48:32.217020Z",
     "shell.execute_reply": "2021-11-11T06:48:32.216470Z",
     "shell.execute_reply.started": "2021-09-07T11:36:55.549331Z"
    },
    "papermill": {
     "duration": 0.0628,
     "end_time": "2021-11-11T06:48:32.217155",
     "exception": false,
     "start_time": "2021-11-11T06:48:32.154355",
     "status": "completed"
    },
    "tags": []
   },
   "outputs": [
    {
     "data": {
      "text/html": [
       "<div>\n",
       "<style scoped>\n",
       "    .dataframe tbody tr th:only-of-type {\n",
       "        vertical-align: middle;\n",
       "    }\n",
       "\n",
       "    .dataframe tbody tr th {\n",
       "        vertical-align: top;\n",
       "    }\n",
       "\n",
       "    .dataframe thead th {\n",
       "        text-align: right;\n",
       "    }\n",
       "</style>\n",
       "<table border=\"1\" class=\"dataframe\">\n",
       "  <thead>\n",
       "    <tr style=\"text-align: right;\">\n",
       "      <th></th>\n",
       "      <th>year</th>\n",
       "      <th>team</th>\n",
       "      <th>match_played</th>\n",
       "      <th>wins</th>\n",
       "      <th>draws</th>\n",
       "      <th>losts</th>\n",
       "      <th>goals_scored</th>\n",
       "      <th>goals_conceded</th>\n",
       "      <th>gd</th>\n",
       "      <th>group_point</th>\n",
       "      <th>champions</th>\n",
       "    </tr>\n",
       "  </thead>\n",
       "  <tbody>\n",
       "    <tr>\n",
       "      <th>0</th>\n",
       "      <td>1993</td>\n",
       "      <td>Marseille</td>\n",
       "      <td>6</td>\n",
       "      <td>3</td>\n",
       "      <td>3</td>\n",
       "      <td>0</td>\n",
       "      <td>14</td>\n",
       "      <td>4</td>\n",
       "      <td>10</td>\n",
       "      <td>9</td>\n",
       "      <td>1</td>\n",
       "    </tr>\n",
       "    <tr>\n",
       "      <th>1</th>\n",
       "      <td>1993</td>\n",
       "      <td>Milan</td>\n",
       "      <td>7</td>\n",
       "      <td>6</td>\n",
       "      <td>0</td>\n",
       "      <td>1</td>\n",
       "      <td>11</td>\n",
       "      <td>2</td>\n",
       "      <td>9</td>\n",
       "      <td>12</td>\n",
       "      <td>0</td>\n",
       "    </tr>\n",
       "    <tr>\n",
       "      <th>2</th>\n",
       "      <td>1993</td>\n",
       "      <td>Rangers</td>\n",
       "      <td>6</td>\n",
       "      <td>2</td>\n",
       "      <td>4</td>\n",
       "      <td>0</td>\n",
       "      <td>7</td>\n",
       "      <td>5</td>\n",
       "      <td>2</td>\n",
       "      <td>8</td>\n",
       "      <td>0</td>\n",
       "    </tr>\n",
       "    <tr>\n",
       "      <th>3</th>\n",
       "      <td>1993</td>\n",
       "      <td>Club Brugge</td>\n",
       "      <td>6</td>\n",
       "      <td>2</td>\n",
       "      <td>1</td>\n",
       "      <td>3</td>\n",
       "      <td>5</td>\n",
       "      <td>8</td>\n",
       "      <td>-3</td>\n",
       "      <td>5</td>\n",
       "      <td>0</td>\n",
       "    </tr>\n",
       "    <tr>\n",
       "      <th>4</th>\n",
       "      <td>1993</td>\n",
       "      <td>CSKA Moscow</td>\n",
       "      <td>6</td>\n",
       "      <td>0</td>\n",
       "      <td>2</td>\n",
       "      <td>4</td>\n",
       "      <td>2</td>\n",
       "      <td>11</td>\n",
       "      <td>-9</td>\n",
       "      <td>2</td>\n",
       "      <td>0</td>\n",
       "    </tr>\n",
       "  </tbody>\n",
       "</table>\n",
       "</div>"
      ],
      "text/plain": [
       "   year         team  match_played  wins  draws  losts  goals_scored  \\\n",
       "0  1993    Marseille             6     3      3      0            14   \n",
       "1  1993        Milan             7     6      0      1            11   \n",
       "2  1993      Rangers             6     2      4      0             7   \n",
       "3  1993  Club Brugge             6     2      1      3             5   \n",
       "4  1993  CSKA Moscow             6     0      2      4             2   \n",
       "\n",
       "   goals_conceded  gd  group_point  champions  \n",
       "0               4  10            9          1  \n",
       "1               2   9           12          0  \n",
       "2               5   2            8          0  \n",
       "3               8  -3            5          0  \n",
       "4              11  -9            2          0  "
      ]
     },
     "execution_count": 3,
     "metadata": {},
     "output_type": "execute_result"
    }
   ],
   "source": [
    "df.head()"
   ]
  },
  {
   "cell_type": "code",
   "execution_count": 4,
   "id": "7d80a84c",
   "metadata": {
    "execution": {
     "iopub.execute_input": "2021-11-11T06:48:32.289143Z",
     "iopub.status.busy": "2021-11-11T06:48:32.288134Z",
     "iopub.status.idle": "2021-11-11T06:48:32.294053Z",
     "shell.execute_reply": "2021-11-11T06:48:32.294516Z",
     "shell.execute_reply.started": "2021-09-07T11:36:55.565123Z"
    },
    "papermill": {
     "duration": 0.043304,
     "end_time": "2021-11-11T06:48:32.294687",
     "exception": false,
     "start_time": "2021-11-11T06:48:32.251383",
     "status": "completed"
    },
    "tags": []
   },
   "outputs": [
    {
     "data": {
      "text/plain": [
       "(714, 11)"
      ]
     },
     "execution_count": 4,
     "metadata": {},
     "output_type": "execute_result"
    }
   ],
   "source": [
    "df.shape"
   ]
  },
  {
   "cell_type": "code",
   "execution_count": 5,
   "id": "d607cbae",
   "metadata": {
    "execution": {
     "iopub.execute_input": "2021-11-11T06:48:32.385415Z",
     "iopub.status.busy": "2021-11-11T06:48:32.384462Z",
     "iopub.status.idle": "2021-11-11T06:48:32.388484Z",
     "shell.execute_reply": "2021-11-11T06:48:32.389354Z",
     "shell.execute_reply.started": "2021-09-07T11:36:55.578357Z"
    },
    "papermill": {
     "duration": 0.060971,
     "end_time": "2021-11-11T06:48:32.389617",
     "exception": false,
     "start_time": "2021-11-11T06:48:32.328646",
     "status": "completed"
    },
    "tags": []
   },
   "outputs": [
    {
     "name": "stdout",
     "output_type": "stream",
     "text": [
      "<class 'pandas.core.frame.DataFrame'>\n",
      "RangeIndex: 714 entries, 0 to 713\n",
      "Data columns (total 11 columns):\n",
      " #   Column          Non-Null Count  Dtype \n",
      "---  ------          --------------  ----- \n",
      " 0   year            714 non-null    int64 \n",
      " 1   team            714 non-null    object\n",
      " 2   match_played    714 non-null    int64 \n",
      " 3   wins            714 non-null    int64 \n",
      " 4   draws           714 non-null    int64 \n",
      " 5   losts           714 non-null    int64 \n",
      " 6   goals_scored    714 non-null    int64 \n",
      " 7   goals_conceded  714 non-null    int64 \n",
      " 8   gd              714 non-null    int64 \n",
      " 9   group_point     714 non-null    int64 \n",
      " 10  champions       714 non-null    int64 \n",
      "dtypes: int64(10), object(1)\n",
      "memory usage: 61.5+ KB\n"
     ]
    }
   ],
   "source": [
    "df.info()"
   ]
  },
  {
   "cell_type": "code",
   "execution_count": 6,
   "id": "d98dd129",
   "metadata": {
    "execution": {
     "iopub.execute_input": "2021-11-11T06:48:32.463439Z",
     "iopub.status.busy": "2021-11-11T06:48:32.462456Z",
     "iopub.status.idle": "2021-11-11T06:48:32.507006Z",
     "shell.execute_reply": "2021-11-11T06:48:32.506324Z",
     "shell.execute_reply.started": "2021-09-07T11:36:55.606532Z"
    },
    "papermill": {
     "duration": 0.081711,
     "end_time": "2021-11-11T06:48:32.507153",
     "exception": false,
     "start_time": "2021-11-11T06:48:32.425442",
     "status": "completed"
    },
    "tags": []
   },
   "outputs": [
    {
     "data": {
      "text/html": [
       "<div>\n",
       "<style scoped>\n",
       "    .dataframe tbody tr th:only-of-type {\n",
       "        vertical-align: middle;\n",
       "    }\n",
       "\n",
       "    .dataframe tbody tr th {\n",
       "        vertical-align: top;\n",
       "    }\n",
       "\n",
       "    .dataframe thead th {\n",
       "        text-align: right;\n",
       "    }\n",
       "</style>\n",
       "<table border=\"1\" class=\"dataframe\">\n",
       "  <thead>\n",
       "    <tr style=\"text-align: right;\">\n",
       "      <th></th>\n",
       "      <th>count</th>\n",
       "      <th>mean</th>\n",
       "      <th>std</th>\n",
       "      <th>min</th>\n",
       "      <th>25%</th>\n",
       "      <th>50%</th>\n",
       "      <th>75%</th>\n",
       "      <th>max</th>\n",
       "    </tr>\n",
       "  </thead>\n",
       "  <tbody>\n",
       "    <tr>\n",
       "      <th>year</th>\n",
       "      <td>714.0</td>\n",
       "      <td>2008.711485</td>\n",
       "      <td>7.340121</td>\n",
       "      <td>1993.0</td>\n",
       "      <td>2004.0</td>\n",
       "      <td>2009.0</td>\n",
       "      <td>2015.0</td>\n",
       "      <td>2020.0</td>\n",
       "    </tr>\n",
       "    <tr>\n",
       "      <th>match_played</th>\n",
       "      <td>714.0</td>\n",
       "      <td>7.673669</td>\n",
       "      <td>2.100880</td>\n",
       "      <td>6.0</td>\n",
       "      <td>6.0</td>\n",
       "      <td>6.0</td>\n",
       "      <td>8.0</td>\n",
       "      <td>13.0</td>\n",
       "    </tr>\n",
       "    <tr>\n",
       "      <th>wins</th>\n",
       "      <td>714.0</td>\n",
       "      <td>2.939776</td>\n",
       "      <td>2.316600</td>\n",
       "      <td>0.0</td>\n",
       "      <td>1.0</td>\n",
       "      <td>2.0</td>\n",
       "      <td>4.0</td>\n",
       "      <td>11.0</td>\n",
       "    </tr>\n",
       "    <tr>\n",
       "      <th>draws</th>\n",
       "      <td>714.0</td>\n",
       "      <td>1.844538</td>\n",
       "      <td>1.273169</td>\n",
       "      <td>0.0</td>\n",
       "      <td>1.0</td>\n",
       "      <td>2.0</td>\n",
       "      <td>3.0</td>\n",
       "      <td>7.0</td>\n",
       "    </tr>\n",
       "    <tr>\n",
       "      <th>losts</th>\n",
       "      <td>714.0</td>\n",
       "      <td>2.892157</td>\n",
       "      <td>1.234552</td>\n",
       "      <td>0.0</td>\n",
       "      <td>2.0</td>\n",
       "      <td>3.0</td>\n",
       "      <td>4.0</td>\n",
       "      <td>6.0</td>\n",
       "    </tr>\n",
       "    <tr>\n",
       "      <th>goals_scored</th>\n",
       "      <td>714.0</td>\n",
       "      <td>10.582633</td>\n",
       "      <td>6.979194</td>\n",
       "      <td>0.0</td>\n",
       "      <td>5.0</td>\n",
       "      <td>9.0</td>\n",
       "      <td>14.0</td>\n",
       "      <td>43.0</td>\n",
       "    </tr>\n",
       "    <tr>\n",
       "      <th>goals_conceded</th>\n",
       "      <td>714.0</td>\n",
       "      <td>10.443978</td>\n",
       "      <td>3.634080</td>\n",
       "      <td>2.0</td>\n",
       "      <td>8.0</td>\n",
       "      <td>10.0</td>\n",
       "      <td>13.0</td>\n",
       "      <td>24.0</td>\n",
       "    </tr>\n",
       "    <tr>\n",
       "      <th>gd</th>\n",
       "      <td>714.0</td>\n",
       "      <td>0.198880</td>\n",
       "      <td>7.573646</td>\n",
       "      <td>-22.0</td>\n",
       "      <td>-5.0</td>\n",
       "      <td>0.0</td>\n",
       "      <td>5.0</td>\n",
       "      <td>35.0</td>\n",
       "    </tr>\n",
       "    <tr>\n",
       "      <th>group_point</th>\n",
       "      <td>714.0</td>\n",
       "      <td>8.183473</td>\n",
       "      <td>4.192922</td>\n",
       "      <td>-8.0</td>\n",
       "      <td>5.0</td>\n",
       "      <td>8.0</td>\n",
       "      <td>11.0</td>\n",
       "      <td>18.0</td>\n",
       "    </tr>\n",
       "    <tr>\n",
       "      <th>champions</th>\n",
       "      <td>714.0</td>\n",
       "      <td>0.039216</td>\n",
       "      <td>0.194244</td>\n",
       "      <td>0.0</td>\n",
       "      <td>0.0</td>\n",
       "      <td>0.0</td>\n",
       "      <td>0.0</td>\n",
       "      <td>1.0</td>\n",
       "    </tr>\n",
       "  </tbody>\n",
       "</table>\n",
       "</div>"
      ],
      "text/plain": [
       "                count         mean       std     min     25%     50%     75%  \\\n",
       "year            714.0  2008.711485  7.340121  1993.0  2004.0  2009.0  2015.0   \n",
       "match_played    714.0     7.673669  2.100880     6.0     6.0     6.0     8.0   \n",
       "wins            714.0     2.939776  2.316600     0.0     1.0     2.0     4.0   \n",
       "draws           714.0     1.844538  1.273169     0.0     1.0     2.0     3.0   \n",
       "losts           714.0     2.892157  1.234552     0.0     2.0     3.0     4.0   \n",
       "goals_scored    714.0    10.582633  6.979194     0.0     5.0     9.0    14.0   \n",
       "goals_conceded  714.0    10.443978  3.634080     2.0     8.0    10.0    13.0   \n",
       "gd              714.0     0.198880  7.573646   -22.0    -5.0     0.0     5.0   \n",
       "group_point     714.0     8.183473  4.192922    -8.0     5.0     8.0    11.0   \n",
       "champions       714.0     0.039216  0.194244     0.0     0.0     0.0     0.0   \n",
       "\n",
       "                   max  \n",
       "year            2020.0  \n",
       "match_played      13.0  \n",
       "wins              11.0  \n",
       "draws              7.0  \n",
       "losts              6.0  \n",
       "goals_scored      43.0  \n",
       "goals_conceded    24.0  \n",
       "gd                35.0  \n",
       "group_point       18.0  \n",
       "champions          1.0  "
      ]
     },
     "execution_count": 6,
     "metadata": {},
     "output_type": "execute_result"
    }
   ],
   "source": [
    "#let's see the descriptive statistics of th data\n",
    "df.describe().T"
   ]
  },
  {
   "cell_type": "code",
   "execution_count": 7,
   "id": "f9ceda0a",
   "metadata": {
    "execution": {
     "iopub.execute_input": "2021-11-11T06:48:32.583773Z",
     "iopub.status.busy": "2021-11-11T06:48:32.583158Z",
     "iopub.status.idle": "2021-11-11T06:48:32.586262Z",
     "shell.execute_reply": "2021-11-11T06:48:32.586797Z",
     "shell.execute_reply.started": "2021-09-07T11:36:55.662371Z"
    },
    "papermill": {
     "duration": 0.044918,
     "end_time": "2021-11-11T06:48:32.586971",
     "exception": false,
     "start_time": "2021-11-11T06:48:32.542053",
     "status": "completed"
    },
    "tags": []
   },
   "outputs": [
    {
     "data": {
      "text/plain": [
       "year              0\n",
       "team              0\n",
       "match_played      0\n",
       "wins              0\n",
       "draws             0\n",
       "losts             0\n",
       "goals_scored      0\n",
       "goals_conceded    0\n",
       "gd                0\n",
       "group_point       0\n",
       "champions         0\n",
       "dtype: int64"
      ]
     },
     "execution_count": 7,
     "metadata": {},
     "output_type": "execute_result"
    }
   ],
   "source": [
    "# check for null values\n",
    "df.isna().sum()"
   ]
  },
  {
   "cell_type": "code",
   "execution_count": 8,
   "id": "0c598ff5",
   "metadata": {
    "execution": {
     "iopub.execute_input": "2021-11-11T06:48:32.660937Z",
     "iopub.status.busy": "2021-11-11T06:48:32.660195Z",
     "iopub.status.idle": "2021-11-11T06:48:32.840499Z",
     "shell.execute_reply": "2021-11-11T06:48:32.839951Z",
     "shell.execute_reply.started": "2021-09-07T11:36:55.672261Z"
    },
    "papermill": {
     "duration": 0.219448,
     "end_time": "2021-11-11T06:48:32.840642",
     "exception": false,
     "start_time": "2021-11-11T06:48:32.621194",
     "status": "completed"
    },
    "tags": []
   },
   "outputs": [
    {
     "data": {
      "image/png": "[encoded data removed]",
      "text/plain": [
       "<Figure size 432x288 with 1 Axes>"
      ]
     },
     "metadata": {
      "needs_background": "light"
     },
     "output_type": "display_data"
    }
   ],
   "source": [
    "# number of sample in each class\n",
    "df.champions.value_counts().plot(kind = 'bar');"
   ]
  },
  {
   "cell_type": "markdown",
   "id": "c81ec458",
   "metadata": {
    "papermill": {
     "duration": 0.035432,
     "end_time": "2021-11-11T06:48:32.911726",
     "exception": false,
     "start_time": "2021-11-11T06:48:32.876294",
     "status": "completed"
    },
    "tags": []
   },
   "source": [
    "We clearly dealing with Imbalance distribution problem. We must solve to get better model. Here is the [link](https://www.kaggle.com/bakar31/a-guide-to-imbalance-distribution-problem-in-ml) of a notebook in that I talked about various methods of balancing a dataet."
   ]
  },
  {
   "cell_type": "markdown",
   "id": "c3058174",
   "metadata": {
    "papermill": {
     "duration": 0.036947,
     "end_time": "2021-11-11T06:48:32.984270",
     "exception": false,
     "start_time": "2021-11-11T06:48:32.947323",
     "status": "completed"
    },
    "tags": []
   },
   "source": [
    "# Feature engineering\n",
    "\n",
    "Feature engineerning is a very important and fruitful steps in every machine learning pipeline. Feature Enginnering enables us to create more powerful features from the existing feature that can help us making a better mode."
   ]
  },
  {
   "cell_type": "code",
   "execution_count": 9,
   "id": "3c7cf8d2",
   "metadata": {
    "execution": {
     "iopub.execute_input": "2021-11-11T06:48:33.060037Z",
     "iopub.status.busy": "2021-11-11T06:48:33.059359Z",
     "iopub.status.idle": "2021-11-11T06:48:33.089297Z",
     "shell.execute_reply": "2021-11-11T06:48:33.089875Z",
     "shell.execute_reply.started": "2021-09-07T11:36:55.820942Z"
    },
    "papermill": {
     "duration": 0.069416,
     "end_time": "2021-11-11T06:48:33.090058",
     "exception": false,
     "start_time": "2021-11-11T06:48:33.020642",
     "status": "completed"
    },
    "tags": []
   },
   "outputs": [],
   "source": [
    "# new features\n",
    "df['win_match_ratio'] = (df['wins'] + 1)/ df['match_played']\n",
    "df['gs_match_ratio'] = (df['goals_scored'] + 1)/ df['match_played']\n",
    "df['gc_match_ratio'] = (df['goals_conceded'] + 1)/ df['match_played']\n",
    "df['win_gs_ratio'] = (df['wins'] + 1)/(df['goals_scored'] + 1)\n",
    "df['win_lost_ratio'] = (df['wins'] + 1)/(df['losts'] + 1)\n",
    "df['gs_gc'] = (df['goals_scored'] - df['goals_conceded']) + 0.1\n",
    "df['wins_draws_ratio'] = (df['wins'] +  1) / (df['draws'] + 1)\n",
    "df['gs_gd'] = (df['goals_scored'] + 1) + (df['gd'])"
   ]
  },
  {
   "cell_type": "code",
   "execution_count": 10,
   "id": "dc22840e",
   "metadata": {
    "execution": {
     "iopub.execute_input": "2021-11-11T06:48:33.164959Z",
     "iopub.status.busy": "2021-11-11T06:48:33.164328Z",
     "iopub.status.idle": "2021-11-11T06:48:33.170115Z",
     "shell.execute_reply": "2021-11-11T06:48:33.170639Z",
     "shell.execute_reply.started": "2021-09-07T11:36:55.839836Z"
    },
    "papermill": {
     "duration": 0.044991,
     "end_time": "2021-11-11T06:48:33.170842",
     "exception": false,
     "start_time": "2021-11-11T06:48:33.125851",
     "status": "completed"
    },
    "tags": []
   },
   "outputs": [],
   "source": [
    "# dropping columns that are not important for the model.\n",
    "df.drop(['year', 'team'], axis = 1, inplace = True)"
   ]
  },
  {
   "cell_type": "code",
   "execution_count": 11,
   "id": "cacce441",
   "metadata": {
    "execution": {
     "iopub.execute_input": "2021-11-11T06:48:33.246436Z",
     "iopub.status.busy": "2021-11-11T06:48:33.245741Z",
     "iopub.status.idle": "2021-11-11T06:48:33.250611Z",
     "shell.execute_reply": "2021-11-11T06:48:33.251160Z",
     "shell.execute_reply.started": "2021-09-07T11:36:55.855972Z"
    },
    "papermill": {
     "duration": 0.043849,
     "end_time": "2021-11-11T06:48:33.251375",
     "exception": false,
     "start_time": "2021-11-11T06:48:33.207526",
     "status": "completed"
    },
    "tags": []
   },
   "outputs": [],
   "source": [
    "# independent and dependent matrix of feature\n",
    "x = df.drop('champions', axis = 1)\n",
    "y = df['champions']"
   ]
  },
  {
   "cell_type": "markdown",
   "id": "38b29f46",
   "metadata": {
    "papermill": {
     "duration": 0.035836,
     "end_time": "2021-11-11T06:48:33.322846",
     "exception": false,
     "start_time": "2021-11-11T06:48:33.287010",
     "status": "completed"
    },
    "tags": []
   },
   "source": [
    "# Feature Selection"
   ]
  },
  {
   "cell_type": "code",
   "execution_count": 12,
   "id": "b3d0a530",
   "metadata": {
    "execution": {
     "iopub.execute_input": "2021-11-11T06:48:33.397335Z",
     "iopub.status.busy": "2021-11-11T06:48:33.396731Z",
     "iopub.status.idle": "2021-11-11T06:48:34.435188Z",
     "shell.execute_reply": "2021-11-11T06:48:34.435892Z",
     "shell.execute_reply.started": "2021-09-07T11:36:55.869448Z"
    },
    "papermill": {
     "duration": 1.077585,
     "end_time": "2021-11-11T06:48:34.436077",
     "exception": false,
     "start_time": "2021-11-11T06:48:33.358492",
     "status": "completed"
    },
    "tags": []
   },
   "outputs": [],
   "source": [
    "from sklearn.feature_selection import mutual_info_regression\n",
    "\n",
    "def make_mi_scores(X, y):\n",
    "    mi_scores = mutual_info_regression(X, y)\n",
    "    mi_scores = pd.Series(mi_scores, name=\"MI Scores\", index=X.columns)\n",
    "    mi_scores = mi_scores.sort_values(ascending=False)\n",
    "    return mi_scores\n",
    "\n",
    "def plot_mi_scores(scores):\n",
    "    scores = scores.sort_values(ascending=True)\n",
    "    width = np.arange(len(scores))\n",
    "    ticks = list(scores.index)\n",
    "    plt.barh(width, scores)\n",
    "    plt.yticks(width, ticks)\n",
    "    plt.title(\"Mutual Information Scores\")"
   ]
  },
  {
   "cell_type": "code",
   "execution_count": 13,
   "id": "577c62aa",
   "metadata": {
    "execution": {
     "iopub.execute_input": "2021-11-11T06:48:34.513145Z",
     "iopub.status.busy": "2021-11-11T06:48:34.512482Z",
     "iopub.status.idle": "2021-11-11T06:48:34.715865Z",
     "shell.execute_reply": "2021-11-11T06:48:34.716402Z",
     "shell.execute_reply.started": "2021-09-07T11:36:55.880972Z"
    },
    "papermill": {
     "duration": 0.244792,
     "end_time": "2021-11-11T06:48:34.716567",
     "exception": false,
     "start_time": "2021-11-11T06:48:34.471775",
     "status": "completed"
    },
    "tags": []
   },
   "outputs": [
    {
     "name": "stdout",
     "output_type": "stream",
     "text": [
      "gs_gd               0.116323\n",
      "match_played        0.094291\n",
      "gs_gc               0.092128\n",
      "win_lost_ratio      0.091640\n",
      "gd                  0.075090\n",
      "win_match_ratio     0.066035\n",
      "goals_scored        0.057233\n",
      "wins_draws_ratio    0.048086\n",
      "losts               0.043858\n",
      "wins                0.032409\n",
      "gc_match_ratio      0.030865\n",
      "group_point         0.029143\n",
      "gs_match_ratio      0.011620\n",
      "win_gs_ratio        0.010648\n",
      "draws               0.000000\n",
      "goals_conceded      0.000000\n",
      "Name: MI Scores, dtype: float64\n"
     ]
    }
   ],
   "source": [
    "# mutual info regression scores\n",
    "mi_score = make_mi_scores(x, y)\n",
    "print(mi_score)"
   ]
  },
  {
   "cell_type": "code",
   "execution_count": 14,
   "id": "ec129af8",
   "metadata": {
    "execution": {
     "iopub.execute_input": "2021-11-11T06:48:34.820068Z",
     "iopub.status.busy": "2021-11-11T06:48:34.814410Z",
     "iopub.status.idle": "2021-11-11T06:48:35.045471Z",
     "shell.execute_reply": "2021-11-11T06:48:35.045978Z",
     "shell.execute_reply.started": "2021-09-07T11:36:56.117116Z"
    },
    "papermill": {
     "duration": 0.293706,
     "end_time": "2021-11-11T06:48:35.046148",
     "exception": false,
     "start_time": "2021-11-11T06:48:34.752442",
     "status": "completed"
    },
    "tags": []
   },
   "outputs": [
    {
     "data": {
      "image/png": "[encoded data removed]",
      "text/plain": [
       "<Figure size 432x288 with 1 Axes>"
      ]
     },
     "metadata": {
      "needs_background": "light"
     },
     "output_type": "display_data"
    }
   ],
   "source": [
    "plot_mi_scores(mi_score)"
   ]
  },
  {
   "cell_type": "markdown",
   "id": "0e14ba66",
   "metadata": {
    "papermill": {
     "duration": 0.036247,
     "end_time": "2021-11-11T06:48:35.118613",
     "exception": false,
     "start_time": "2021-11-11T06:48:35.082366",
     "status": "completed"
    },
    "tags": []
   },
   "source": [
    "# Balancing Imbalance Distribution Problem"
   ]
  },
  {
   "cell_type": "code",
   "execution_count": 15,
   "id": "0cf7ec07",
   "metadata": {
    "execution": {
     "iopub.execute_input": "2021-11-11T06:48:35.195023Z",
     "iopub.status.busy": "2021-11-11T06:48:35.194068Z",
     "iopub.status.idle": "2021-11-11T06:48:35.381644Z",
     "shell.execute_reply": "2021-11-11T06:48:35.382192Z",
     "shell.execute_reply.started": "2021-09-07T11:36:56.371096Z"
    },
    "papermill": {
     "duration": 0.227518,
     "end_time": "2021-11-11T06:48:35.382379",
     "exception": false,
     "start_time": "2021-11-11T06:48:35.154861",
     "status": "completed"
    },
    "tags": []
   },
   "outputs": [],
   "source": [
    "# balancing the dataset\n",
    "from imblearn.over_sampling import SMOTE\n",
    "smote = SMOTE()\n",
    "x_sm, y_sm= smote.fit_resample(x, y)"
   ]
  },
  {
   "cell_type": "code",
   "execution_count": 16,
   "id": "1bbb49a7",
   "metadata": {
    "execution": {
     "iopub.execute_input": "2021-11-11T06:48:35.459757Z",
     "iopub.status.busy": "2021-11-11T06:48:35.458777Z",
     "iopub.status.idle": "2021-11-11T06:48:35.592211Z",
     "shell.execute_reply": "2021-11-11T06:48:35.592733Z",
     "shell.execute_reply.started": "2021-09-07T11:36:56.38739Z"
    },
    "papermill": {
     "duration": 0.173752,
     "end_time": "2021-11-11T06:48:35.592913",
     "exception": false,
     "start_time": "2021-11-11T06:48:35.419161",
     "status": "completed"
    },
    "tags": []
   },
   "outputs": [
    {
     "data": {
      "image/png": "[encoded data removed]",
      "text/plain": [
       "<Figure size 432x288 with 1 Axes>"
      ]
     },
     "metadata": {
      "needs_background": "light"
     },
     "output_type": "display_data"
    }
   ],
   "source": [
    "pd.DataFrame(y_sm).champions.value_counts().plot(kind = 'bar');"
   ]
  },
  {
   "cell_type": "markdown",
   "id": "6f91c44e",
   "metadata": {
    "papermill": {
     "duration": 0.037378,
     "end_time": "2021-11-11T06:48:35.666939",
     "exception": false,
     "start_time": "2021-11-11T06:48:35.629561",
     "status": "completed"
    },
    "tags": []
   },
   "source": [
    "**Yay!** Our imbalance distribtion problem is solved."
   ]
  },
  {
   "cell_type": "code",
   "execution_count": 17,
   "id": "aab5e907",
   "metadata": {
    "execution": {
     "iopub.execute_input": "2021-11-11T06:48:35.745739Z",
     "iopub.status.busy": "2021-11-11T06:48:35.744790Z",
     "iopub.status.idle": "2021-11-11T06:48:35.751355Z",
     "shell.execute_reply": "2021-11-11T06:48:35.751904Z",
     "shell.execute_reply.started": "2021-09-07T11:36:56.536684Z"
    },
    "papermill": {
     "duration": 0.047578,
     "end_time": "2021-11-11T06:48:35.752064",
     "exception": false,
     "start_time": "2021-11-11T06:48:35.704486",
     "status": "completed"
    },
    "tags": []
   },
   "outputs": [],
   "source": [
    "# splitting into train and test set\n",
    "from sklearn.model_selection import train_test_split\n",
    "x_train,x_test,y_train,y_test = train_test_split(x_sm, y_sm,random_state = 31)"
   ]
  },
  {
   "cell_type": "code",
   "execution_count": 18,
   "id": "8910e886",
   "metadata": {
    "execution": {
     "iopub.execute_input": "2021-11-11T06:48:35.831179Z",
     "iopub.status.busy": "2021-11-11T06:48:35.830202Z",
     "iopub.status.idle": "2021-11-11T06:48:35.837740Z",
     "shell.execute_reply": "2021-11-11T06:48:35.837236Z",
     "shell.execute_reply.started": "2021-09-07T11:36:56.548197Z"
    },
    "papermill": {
     "duration": 0.048511,
     "end_time": "2021-11-11T06:48:35.837903",
     "exception": false,
     "start_time": "2021-11-11T06:48:35.789392",
     "status": "completed"
    },
    "tags": []
   },
   "outputs": [],
   "source": [
    "from sklearn.metrics import classification_report, plot_confusion_matrix, plot_roc_curve\n",
    "def report(classifier, x_test = x_test, y_test = y_test):\n",
    "    print(\"Classification Report: \\n\")\n",
    "    y_preds = classifier.predict(x_test)\n",
    "    print(classification_report(y_test, y_preds))\n",
    "    print(\"Confusion Matrix: \\n\")\n",
    "    plot_confusion_matrix(classifier, x_test, y_test, cmap=plt.cm.Blues)\n",
    "    print(\"ROC: \\n\")\n",
    "    plot_roc_curve(classifier, x_test, y_test) \n",
    "    plt.plot([0, 1], [0, 1], color='red', linestyle='--')"
   ]
  },
  {
   "cell_type": "markdown",
   "id": "5e122bd2",
   "metadata": {
    "papermill": {
     "duration": 0.036904,
     "end_time": "2021-11-11T06:48:35.911904",
     "exception": false,
     "start_time": "2021-11-11T06:48:35.875000",
     "status": "completed"
    },
    "tags": []
   },
   "source": [
    "# Modeling"
   ]
  },
  {
   "cell_type": "markdown",
   "id": "2a7910cb",
   "metadata": {
    "papermill": {
     "duration": 0.037177,
     "end_time": "2021-11-11T06:48:35.985433",
     "exception": false,
     "start_time": "2021-11-11T06:48:35.948256",
     "status": "completed"
    },
    "tags": []
   },
   "source": [
    "## Logistic Regression"
   ]
  },
  {
   "cell_type": "code",
   "execution_count": 19,
   "id": "8ed97630",
   "metadata": {
    "execution": {
     "iopub.execute_input": "2021-11-11T06:48:36.070139Z",
     "iopub.status.busy": "2021-11-11T06:48:36.069175Z",
     "iopub.status.idle": "2021-11-11T06:48:45.555129Z",
     "shell.execute_reply": "2021-11-11T06:48:45.554498Z",
     "shell.execute_reply.started": "2021-09-07T11:36:56.558486Z"
    },
    "papermill": {
     "duration": 9.531524,
     "end_time": "2021-11-11T06:48:45.555281",
     "exception": false,
     "start_time": "2021-11-11T06:48:36.023757",
     "status": "completed"
    },
    "tags": []
   },
   "outputs": [
    {
     "name": "stdout",
     "output_type": "stream",
     "text": [
      "LR Score:  0.9737673710260804\n"
     ]
    }
   ],
   "source": [
    "from sklearn.model_selection import cross_val_score\n",
    "from sklearn.linear_model import LogisticRegression\n",
    "log_clf = LogisticRegression(max_iter = 100,\n",
    "                             C = 5.428675439323859,\n",
    "                             penalty='l1',\n",
    "                             solver='liblinear',\n",
    "                             random_state = 41).fit(x_train, y_train)\n",
    "\n",
    "cv_lr = cross_val_score(log_clf, x_train, y_train, cv = 10)\n",
    "lr_score = np.mean(cv_lr)\n",
    "print(\"LR Score: \", lr_score)"
   ]
  },
  {
   "cell_type": "code",
   "execution_count": 20,
   "id": "46d938c8",
   "metadata": {
    "execution": {
     "iopub.execute_input": "2021-11-11T06:48:45.638665Z",
     "iopub.status.busy": "2021-11-11T06:48:45.638031Z",
     "iopub.status.idle": "2021-11-11T06:48:46.012994Z",
     "shell.execute_reply": "2021-11-11T06:48:46.012392Z",
     "shell.execute_reply.started": "2021-09-07T11:37:06.360528Z"
    },
    "papermill": {
     "duration": 0.419637,
     "end_time": "2021-11-11T06:48:46.013140",
     "exception": false,
     "start_time": "2021-11-11T06:48:45.593503",
     "status": "completed"
    },
    "tags": []
   },
   "outputs": [
    {
     "name": "stdout",
     "output_type": "stream",
     "text": [
      "Classification Report: \n",
      "\n",
      "              precision    recall  f1-score   support\n",
      "\n",
      "           0       0.98      0.97      0.97       174\n",
      "           1       0.96      0.98      0.97       169\n",
      "\n",
      "    accuracy                           0.97       343\n",
      "   macro avg       0.97      0.97      0.97       343\n",
      "weighted avg       0.97      0.97      0.97       343\n",
      "\n",
      "Confusion Matrix: \n",
      "\n",
      "ROC: \n",
      "\n"
     ]
    },
    {
     "data": {
      "image/png": "[encoded data removed]",
      "text/plain": [
       "<Figure size 432x288 with 2 Axes>"
      ]
     },
     "metadata": {
      "needs_background": "light"
     },
     "output_type": "display_data"
    },
    {
     "data": {
      "image/png": "[encoded data removed]",
      "text/plain": [
       "<Figure size 432x288 with 1 Axes>"
      ]
     },
     "metadata": {
      "needs_background": "light"
     },
     "output_type": "display_data"
    }
   ],
   "source": [
    "report(log_clf)"
   ]
  },
  {
   "cell_type": "markdown",
   "id": "9994915a",
   "metadata": {
    "papermill": {
     "duration": 0.040301,
     "end_time": "2021-11-11T06:48:46.094657",
     "exception": false,
     "start_time": "2021-11-11T06:48:46.054356",
     "status": "completed"
    },
    "tags": []
   },
   "source": [
    "## KNN"
   ]
  },
  {
   "cell_type": "code",
   "execution_count": 21,
   "id": "f9eca443",
   "metadata": {
    "execution": {
     "iopub.execute_input": "2021-11-11T06:48:46.185511Z",
     "iopub.status.busy": "2021-11-11T06:48:46.184803Z",
     "iopub.status.idle": "2021-11-11T06:48:46.319860Z",
     "shell.execute_reply": "2021-11-11T06:48:46.319262Z",
     "shell.execute_reply.started": "2021-09-07T11:37:07.026798Z"
    },
    "papermill": {
     "duration": 0.18549,
     "end_time": "2021-11-11T06:48:46.320004",
     "exception": false,
     "start_time": "2021-11-11T06:48:46.134514",
     "status": "completed"
    },
    "tags": []
   },
   "outputs": [
    {
     "name": "stdout",
     "output_type": "stream",
     "text": [
      "KNN Score:  0.9727679421283076\n"
     ]
    }
   ],
   "source": [
    "from sklearn.neighbors import KNeighborsClassifier\n",
    "\n",
    "# parameter tuned by gridsearchcv\n",
    "knn_clf = KNeighborsClassifier(algorithm='auto',\n",
    "                                leaf_size=10,\n",
    "                                n_neighbors=2,\n",
    "                                p = 1).fit(x_train, y_train)\n",
    "\n",
    "cv_knn = cross_val_score(knn_clf, x_train, y_train, cv = 10)\n",
    "knn_score = np.mean(cv_knn)\n",
    "print(\"KNN Score: \", knn_score)"
   ]
  },
  {
   "cell_type": "code",
   "execution_count": 22,
   "id": "c52954b3",
   "metadata": {
    "execution": {
     "iopub.execute_input": "2021-11-11T06:48:46.410925Z",
     "iopub.status.busy": "2021-11-11T06:48:46.409998Z",
     "iopub.status.idle": "2021-11-11T06:48:46.828726Z",
     "shell.execute_reply": "2021-11-11T06:48:46.828223Z",
     "shell.execute_reply.started": "2021-09-07T11:37:07.173952Z"
    },
    "papermill": {
     "duration": 0.467164,
     "end_time": "2021-11-11T06:48:46.828895",
     "exception": false,
     "start_time": "2021-11-11T06:48:46.361731",
     "status": "completed"
    },
    "tags": []
   },
   "outputs": [
    {
     "name": "stdout",
     "output_type": "stream",
     "text": [
      "Classification Report: \n",
      "\n",
      "              precision    recall  f1-score   support\n",
      "\n",
      "           0       0.98      0.95      0.97       174\n",
      "           1       0.95      0.98      0.97       169\n",
      "\n",
      "    accuracy                           0.97       343\n",
      "   macro avg       0.97      0.97      0.97       343\n",
      "weighted avg       0.97      0.97      0.97       343\n",
      "\n",
      "Confusion Matrix: \n",
      "\n",
      "ROC: \n",
      "\n"
     ]
    },
    {
     "data": {
      "image/png": "[encoded data removed]",
      "text/plain": [
       "<Figure size 432x288 with 2 Axes>"
      ]
     },
     "metadata": {
      "needs_background": "light"
     },
     "output_type": "display_data"
    },
    {
     "data": {
      "image/png": "[encoded data removed]",
      "text/plain": [
       "<Figure size 432x288 with 1 Axes>"
      ]
     },
     "metadata": {
      "needs_background": "light"
     },
     "output_type": "display_data"
    }
   ],
   "source": [
    "report(knn_clf)"
   ]
  },
  {
   "cell_type": "markdown",
   "id": "2ae917b0",
   "metadata": {
    "papermill": {
     "duration": 0.041476,
     "end_time": "2021-11-11T06:48:46.912501",
     "exception": false,
     "start_time": "2021-11-11T06:48:46.871025",
     "status": "completed"
    },
    "tags": []
   },
   "source": [
    "# SVC"
   ]
  },
  {
   "cell_type": "code",
   "execution_count": 23,
   "id": "436cb4e4",
   "metadata": {
    "execution": {
     "iopub.execute_input": "2021-11-11T06:48:47.006330Z",
     "iopub.status.busy": "2021-11-11T06:48:47.005557Z",
     "iopub.status.idle": "2021-11-11T06:48:47.158330Z",
     "shell.execute_reply": "2021-11-11T06:48:47.157747Z",
     "shell.execute_reply.started": "2021-09-07T11:37:07.59288Z"
    },
    "papermill": {
     "duration": 0.20368,
     "end_time": "2021-11-11T06:48:47.158469",
     "exception": false,
     "start_time": "2021-11-11T06:48:46.954789",
     "status": "completed"
    },
    "tags": []
   },
   "outputs": [
    {
     "name": "stdout",
     "output_type": "stream",
     "text": [
      "SVC Score:  0.9727679421283076\n"
     ]
    }
   ],
   "source": [
    "from sklearn import svm\n",
    "\n",
    "# parameter tuned by gridsearchcv\n",
    "svc_clf = svm.SVC(C = 233.57214690901213,\n",
    "                  degree = 2,\n",
    "                  kernel = 'rbf',\n",
    "                  random_state = 7).fit(x_train, y_train)\n",
    "\n",
    "cv_svc = cross_val_score(knn_clf, x_train, y_train, cv = 10)\n",
    "svc_score = np.mean(cv_svc)\n",
    "print(\"SVC Score: \", svc_score)"
   ]
  },
  {
   "cell_type": "code",
   "execution_count": 24,
   "id": "2b2c392b",
   "metadata": {
    "execution": {
     "iopub.execute_input": "2021-11-11T06:48:47.252425Z",
     "iopub.status.busy": "2021-11-11T06:48:47.251676Z",
     "iopub.status.idle": "2021-11-11T06:48:47.634302Z",
     "shell.execute_reply": "2021-11-11T06:48:47.633368Z",
     "shell.execute_reply.started": "2021-09-07T11:37:07.754275Z"
    },
    "papermill": {
     "duration": 0.433558,
     "end_time": "2021-11-11T06:48:47.634451",
     "exception": false,
     "start_time": "2021-11-11T06:48:47.200893",
     "status": "completed"
    },
    "tags": []
   },
   "outputs": [
    {
     "name": "stdout",
     "output_type": "stream",
     "text": [
      "Classification Report: \n",
      "\n",
      "              precision    recall  f1-score   support\n",
      "\n",
      "           0       0.99      0.97      0.98       174\n",
      "           1       0.97      0.99      0.98       169\n",
      "\n",
      "    accuracy                           0.98       343\n",
      "   macro avg       0.98      0.98      0.98       343\n",
      "weighted avg       0.98      0.98      0.98       343\n",
      "\n",
      "Confusion Matrix: \n",
      "\n",
      "ROC: \n",
      "\n"
     ]
    },
    {
     "data": {
      "image/png": "[encoded data removed]",
      "text/plain": [
       "<Figure size 432x288 with 2 Axes>"
      ]
     },
     "metadata": {
      "needs_background": "light"
     },
     "output_type": "display_data"
    },
    {
     "data": {
      "image/png": "[encoded data removed]",
      "text/plain": [
       "<Figure size 432x288 with 1 Axes>"
      ]
     },
     "metadata": {
      "needs_background": "light"
     },
     "output_type": "display_data"
    }
   ],
   "source": [
    "report(svc_clf)"
   ]
  },
  {
   "cell_type": "markdown",
   "id": "b8d4e93c",
   "metadata": {
    "papermill": {
     "duration": 0.043943,
     "end_time": "2021-11-11T06:48:47.723061",
     "exception": false,
     "start_time": "2021-11-11T06:48:47.679118",
     "status": "completed"
    },
    "tags": []
   },
   "source": [
    "# Random Forest"
   ]
  },
  {
   "cell_type": "code",
   "execution_count": 25,
   "id": "346a910b",
   "metadata": {
    "execution": {
     "iopub.execute_input": "2021-11-11T06:48:47.816130Z",
     "iopub.status.busy": "2021-11-11T06:48:47.815418Z",
     "iopub.status.idle": "2021-11-11T06:49:17.725892Z",
     "shell.execute_reply": "2021-11-11T06:49:17.724957Z",
     "shell.execute_reply.started": "2021-09-07T11:37:08.141606Z"
    },
    "papermill": {
     "duration": 29.958259,
     "end_time": "2021-11-11T06:49:17.726041",
     "exception": false,
     "start_time": "2021-11-11T06:48:47.767782",
     "status": "completed"
    },
    "tags": []
   },
   "outputs": [
    {
     "name": "stdout",
     "output_type": "stream",
     "text": [
      "RF Score:  0.9747477631829431\n"
     ]
    }
   ],
   "source": [
    "from sklearn.ensemble import RandomForestClassifier\n",
    "\n",
    "# parameters were taken by randomizedsearchcv\n",
    "rand_clf = RandomForestClassifier(n_estimators=1000,\n",
    "                                 min_samples_split = 4,\n",
    "                                 min_samples_leaf = 1,\n",
    "                                 max_depth = None,\n",
    "                                 random_state = 35).fit(x_train, y_train)\n",
    "\n",
    "cv_rf = cross_val_score(rand_clf, x_train, y_train, cv = 10)\n",
    "rf_score = np.mean(cv_rf)\n",
    "print(\"RF Score: \", rf_score)"
   ]
  },
  {
   "cell_type": "code",
   "execution_count": 26,
   "id": "0aae6c89",
   "metadata": {
    "execution": {
     "iopub.execute_input": "2021-11-11T06:49:17.818966Z",
     "iopub.status.busy": "2021-11-11T06:49:17.818270Z",
     "iopub.status.idle": "2021-11-11T06:49:18.685917Z",
     "shell.execute_reply": "2021-11-11T06:49:18.686436Z",
     "shell.execute_reply.started": "2021-09-07T11:37:38.267492Z"
    },
    "papermill": {
     "duration": 0.915957,
     "end_time": "2021-11-11T06:49:18.686604",
     "exception": false,
     "start_time": "2021-11-11T06:49:17.770647",
     "status": "completed"
    },
    "tags": []
   },
   "outputs": [
    {
     "name": "stdout",
     "output_type": "stream",
     "text": [
      "Classification Report: \n",
      "\n",
      "              precision    recall  f1-score   support\n",
      "\n",
      "           0       0.98      0.95      0.97       174\n",
      "           1       0.95      0.98      0.96       169\n",
      "\n",
      "    accuracy                           0.97       343\n",
      "   macro avg       0.97      0.97      0.97       343\n",
      "weighted avg       0.97      0.97      0.97       343\n",
      "\n",
      "Confusion Matrix: \n",
      "\n",
      "ROC: \n",
      "\n"
     ]
    },
    {
     "data": {
      "image/png": "[encoded data removed]",
      "text/plain": [
       "<Figure size 432x288 with 2 Axes>"
      ]
     },
     "metadata": {
      "needs_background": "light"
     },
     "output_type": "display_data"
    },
    {
     "data": {
      "image/png": "[encoded data removed]",
      "text/plain": [
       "<Figure size 432x288 with 1 Axes>"
      ]
     },
     "metadata": {
      "needs_background": "light"
     },
     "output_type": "display_data"
    }
   ],
   "source": [
    "report(rand_clf)"
   ]
  },
  {
   "cell_type": "markdown",
   "id": "5196f9d7",
   "metadata": {
    "papermill": {
     "duration": 0.046897,
     "end_time": "2021-11-11T06:49:18.780756",
     "exception": false,
     "start_time": "2021-11-11T06:49:18.733859",
     "status": "completed"
    },
    "tags": []
   },
   "source": [
    "# Gradient Boost"
   ]
  },
  {
   "cell_type": "code",
   "execution_count": 27,
   "id": "eaa415df",
   "metadata": {
    "execution": {
     "iopub.execute_input": "2021-11-11T06:49:18.884607Z",
     "iopub.status.busy": "2021-11-11T06:49:18.883623Z",
     "iopub.status.idle": "2021-11-11T06:49:30.130851Z",
     "shell.execute_reply": "2021-11-11T06:49:30.130312Z",
     "shell.execute_reply.started": "2021-09-07T11:37:39.003375Z"
    },
    "papermill": {
     "duration": 11.303127,
     "end_time": "2021-11-11T06:49:30.131004",
     "exception": false,
     "start_time": "2021-11-11T06:49:18.827877",
     "status": "completed"
    },
    "tags": []
   },
   "outputs": [
    {
     "name": "stdout",
     "output_type": "stream",
     "text": [
      "GBC Score:  0.9844374643061109\n"
     ]
    }
   ],
   "source": [
    "from sklearn.ensemble import GradientBoostingClassifier\n",
    "\n",
    "gbc_clf = GradientBoostingClassifier(learning_rate=0.1,\n",
    "                                 loss='deviance',\n",
    "                                 max_depth=2,\n",
    "                                 min_samples_leaf=5,\n",
    "                                 min_samples_split=2,\n",
    "                                 n_estimators=500,\n",
    "                                 random_state=31).fit(x_train, y_train)\n",
    "\n",
    "cv_gbc = cross_val_score(gbc_clf, x_train, y_train, cv = 10)\n",
    "gbc_score = np.mean(cv_gbc)\n",
    "print(\"GBC Score: \", gbc_score)"
   ]
  },
  {
   "cell_type": "code",
   "execution_count": 28,
   "id": "c7a0ae97",
   "metadata": {
    "execution": {
     "iopub.execute_input": "2021-11-11T06:49:30.231002Z",
     "iopub.status.busy": "2021-11-11T06:49:30.229986Z",
     "iopub.status.idle": "2021-11-11T06:49:30.618226Z",
     "shell.execute_reply": "2021-11-11T06:49:30.618721Z",
     "shell.execute_reply.started": "2021-09-07T11:37:50.401122Z"
    },
    "papermill": {
     "duration": 0.440214,
     "end_time": "2021-11-11T06:49:30.618926",
     "exception": false,
     "start_time": "2021-11-11T06:49:30.178712",
     "status": "completed"
    },
    "tags": []
   },
   "outputs": [
    {
     "name": "stdout",
     "output_type": "stream",
     "text": [
      "Classification Report: \n",
      "\n",
      "              precision    recall  f1-score   support\n",
      "\n",
      "           0       0.98      0.97      0.97       174\n",
      "           1       0.96      0.98      0.97       169\n",
      "\n",
      "    accuracy                           0.97       343\n",
      "   macro avg       0.97      0.97      0.97       343\n",
      "weighted avg       0.97      0.97      0.97       343\n",
      "\n",
      "Confusion Matrix: \n",
      "\n",
      "ROC: \n",
      "\n"
     ]
    },
    {
     "data": {
      "image/png": "[encoded data removed]",
      "text/plain": [
       "<Figure size 432x288 with 2 Axes>"
      ]
     },
     "metadata": {
      "needs_background": "light"
     },
     "output_type": "display_data"
    },
    {
     "data": {
      "image/png": "[encoded data removed]",
      "text/plain": [
       "<Figure size 432x288 with 1 Axes>"
      ]
     },
     "metadata": {
      "needs_background": "light"
     },
     "output_type": "display_data"
    }
   ],
   "source": [
    "report(gbc_clf)"
   ]
  },
  {
   "cell_type": "markdown",
   "id": "33274bff",
   "metadata": {
    "papermill": {
     "duration": 0.04866,
     "end_time": "2021-11-11T06:49:30.716682",
     "exception": false,
     "start_time": "2021-11-11T06:49:30.668022",
     "status": "completed"
    },
    "tags": []
   },
   "source": [
    "# LightBGM"
   ]
  },
  {
   "cell_type": "code",
   "execution_count": 29,
   "id": "a698b9bf",
   "metadata": {
    "execution": {
     "iopub.execute_input": "2021-11-11T06:49:30.818360Z",
     "iopub.status.busy": "2021-11-11T06:49:30.817360Z",
     "iopub.status.idle": "2021-11-11T06:49:33.032352Z",
     "shell.execute_reply": "2021-11-11T06:49:33.032913Z",
     "shell.execute_reply.started": "2021-09-07T11:37:50.802269Z"
    },
    "papermill": {
     "duration": 2.267205,
     "end_time": "2021-11-11T06:49:33.033107",
     "exception": false,
     "start_time": "2021-11-11T06:49:30.765902",
     "status": "completed"
    },
    "tags": []
   },
   "outputs": [
    {
     "data": {
      "text/html": [
       "<style type='text/css'>\n",
       ".datatable table.frame { margin-bottom: 0; }\n",
       ".datatable table.frame thead { border-bottom: none; }\n",
       ".datatable table.frame tr.coltypes td {  color: #FFFFFF;  line-height: 6px;  padding: 0 0.5em;}\n",
       ".datatable .bool    { background: #DDDD99; }\n",
       ".datatable .object  { background: #565656; }\n",
       ".datatable .int     { background: #5D9E5D; }\n",
       ".datatable .float   { background: #4040CC; }\n",
       ".datatable .str     { background: #CC4040; }\n",
       ".datatable .time    { background: #40CC40; }\n",
       ".datatable .row_index {  background: var(--jp-border-color3);  border-right: 1px solid var(--jp-border-color0);  color: var(--jp-ui-font-color3);  font-size: 9px;}\n",
       ".datatable .frame tbody td { text-align: left; }\n",
       ".datatable .frame tr.coltypes .row_index {  background: var(--jp-border-color0);}\n",
       ".datatable th:nth-child(2) { padding-left: 12px; }\n",
       ".datatable .hellipsis {  color: var(--jp-cell-editor-border-color);}\n",
       ".datatable .vellipsis {  background: var(--jp-layout-color0);  color: var(--jp-cell-editor-border-color);}\n",
       ".datatable .na {  color: var(--jp-cell-editor-border-color);  font-size: 80%;}\n",
       ".datatable .sp {  opacity: 0.25;}\n",
       ".datatable .footer { font-size: 9px; }\n",
       ".datatable .frame_dimensions {  background: var(--jp-border-color3);  border-top: 1px solid var(--jp-border-color0);  color: var(--jp-ui-font-color3);  display: inline-block;  opacity: 0.6;  padding: 1px 10px 1px 5px;}\n",
       "</style>\n"
      ],
      "text/plain": [
       "<IPython.core.display.HTML object>"
      ]
     },
     "metadata": {},
     "output_type": "display_data"
    },
    {
     "name": "stdout",
     "output_type": "stream",
     "text": [
      "Lgbm Score:  0.9854178564629736\n"
     ]
    }
   ],
   "source": [
    "from lightgbm import LGBMClassifier\n",
    "lgbm = LGBMClassifier().fit(x_train, y_train)\n",
    "cv_lgbm = cross_val_score(lgbm, x_train, y_train, cv = 10)\n",
    "lgbm_score = np.mean(cv_lgbm)\n",
    "print(\"Lgbm Score: \", lgbm_score)"
   ]
  },
  {
   "cell_type": "code",
   "execution_count": 30,
   "id": "17e964dd",
   "metadata": {
    "execution": {
     "iopub.execute_input": "2021-11-11T06:49:33.142229Z",
     "iopub.status.busy": "2021-11-11T06:49:33.141550Z",
     "iopub.status.idle": "2021-11-11T06:49:33.524501Z",
     "shell.execute_reply": "2021-11-11T06:49:33.523989Z",
     "shell.execute_reply.started": "2021-09-07T11:37:52.006194Z"
    },
    "papermill": {
     "duration": 0.439254,
     "end_time": "2021-11-11T06:49:33.524631",
     "exception": false,
     "start_time": "2021-11-11T06:49:33.085377",
     "status": "completed"
    },
    "tags": []
   },
   "outputs": [
    {
     "name": "stdout",
     "output_type": "stream",
     "text": [
      "Classification Report: \n",
      "\n",
      "              precision    recall  f1-score   support\n",
      "\n",
      "           0       0.99      0.97      0.98       174\n",
      "           1       0.97      0.99      0.98       169\n",
      "\n",
      "    accuracy                           0.98       343\n",
      "   macro avg       0.98      0.98      0.98       343\n",
      "weighted avg       0.98      0.98      0.98       343\n",
      "\n",
      "Confusion Matrix: \n",
      "\n",
      "ROC: \n",
      "\n"
     ]
    },
    {
     "data": {
      "image/png": "[encoded data removed]",
      "text/plain": [
       "<Figure size 432x288 with 2 Axes>"
      ]
     },
     "metadata": {
      "needs_background": "light"
     },
     "output_type": "display_data"
    },
    {
     "data": {
      "image/png": "[encoded data removed]",
      "text/plain": [
       "<Figure size 432x288 with 1 Axes>"
      ]
     },
     "metadata": {
      "needs_background": "light"
     },
     "output_type": "display_data"
    }
   ],
   "source": [
    "report(lgbm)"
   ]
  },
  {
   "cell_type": "markdown",
   "id": "04750f0c",
   "metadata": {
    "papermill": {
     "duration": 0.052279,
     "end_time": "2021-11-11T06:49:33.629547",
     "exception": false,
     "start_time": "2021-11-11T06:49:33.577268",
     "status": "completed"
    },
    "tags": []
   },
   "source": [
    "# Score Analysis"
   ]
  },
  {
   "cell_type": "code",
   "execution_count": 31,
   "id": "41f8c918",
   "metadata": {
    "execution": {
     "iopub.execute_input": "2021-11-11T06:49:33.745524Z",
     "iopub.status.busy": "2021-11-11T06:49:33.744877Z",
     "iopub.status.idle": "2021-11-11T06:49:33.749000Z",
     "shell.execute_reply": "2021-11-11T06:49:33.748464Z",
     "shell.execute_reply.started": "2021-09-07T11:37:52.572495Z"
    },
    "papermill": {
     "duration": 0.067221,
     "end_time": "2021-11-11T06:49:33.749140",
     "exception": false,
     "start_time": "2021-11-11T06:49:33.681919",
     "status": "completed"
    },
    "tags": []
   },
   "outputs": [
    {
     "data": {
      "text/html": [
       "<div>\n",
       "<style scoped>\n",
       "    .dataframe tbody tr th:only-of-type {\n",
       "        vertical-align: middle;\n",
       "    }\n",
       "\n",
       "    .dataframe tbody tr th {\n",
       "        vertical-align: top;\n",
       "    }\n",
       "\n",
       "    .dataframe thead th {\n",
       "        text-align: right;\n",
       "    }\n",
       "</style>\n",
       "<table border=\"1\" class=\"dataframe\">\n",
       "  <thead>\n",
       "    <tr style=\"text-align: right;\">\n",
       "      <th></th>\n",
       "      <th>Score</th>\n",
       "    </tr>\n",
       "  </thead>\n",
       "  <tbody>\n",
       "    <tr>\n",
       "      <th>Logistic Regression</th>\n",
       "      <td>0.973767</td>\n",
       "    </tr>\n",
       "    <tr>\n",
       "      <th>KNN</th>\n",
       "      <td>0.972768</td>\n",
       "    </tr>\n",
       "    <tr>\n",
       "      <th>SVC</th>\n",
       "      <td>0.972768</td>\n",
       "    </tr>\n",
       "    <tr>\n",
       "      <th>Random Forest</th>\n",
       "      <td>0.974748</td>\n",
       "    </tr>\n",
       "    <tr>\n",
       "      <th>Gradient Boost</th>\n",
       "      <td>0.984437</td>\n",
       "    </tr>\n",
       "    <tr>\n",
       "      <th>LightBGM</th>\n",
       "      <td>0.985418</td>\n",
       "    </tr>\n",
       "  </tbody>\n",
       "</table>\n",
       "</div>"
      ],
      "text/plain": [
       "                        Score\n",
       "Logistic Regression  0.973767\n",
       "KNN                  0.972768\n",
       "SVC                  0.972768\n",
       "Random Forest        0.974748\n",
       "Gradient Boost       0.984437\n",
       "LightBGM             0.985418"
      ]
     },
     "execution_count": 31,
     "metadata": {},
     "output_type": "execute_result"
    }
   ],
   "source": [
    "score_dict= {'Logistic Regression':lr_score,\n",
    "             'KNN':knn_score,\n",
    "             'SVC':svc_score,\n",
    "             'Random Forest': rf_score,\n",
    "             'Gradient Boost':gbc_score,\n",
    "             'LightBGM':lgbm_score}\n",
    "pd.DataFrame.from_dict(score_dict, orient = 'index', columns = ['Score'])"
   ]
  }
 ],
 "metadata": {
  "kernelspec": {
   "display_name": "Python 3.10.4 64-bit",
   "language": "python",
   "name": "python3"
  },
  "language_info": {
   "codemirror_mode": {
    "name": "ipython",
    "version": 3
   },
   "file_extension": ".py",
   "mimetype": "text/x-python",
   "name": "python",
   "nbconvert_exporter": "python",
   "pygments_lexer": "ipython3",
   "version": "3.10.4"
  },
  "papermill": {
   "default_parameters": {},
   "duration": 71.821419,
   "end_time": "2021-11-11T06:49:35.377729",
   "environment_variables": {},
   "exception": null,
   "input_path": "__notebook__.ipynb",
   "output_path": "__notebook__.ipynb",
   "parameters": {},
   "start_time": "2021-11-11T06:48:23.556310",
   "version": "2.3.3"
  },
  "vscode": {
   "interpreter": {
    "hash": "4dd2d1ffce9c44fd2a9b83a20f8dcc3134d2e0d0e5516b3781ca3ad10c014216"
   }
  }
 },
 "nbformat": 4,
 "nbformat_minor": 5
}
